{
 "cells": [
  {
   "cell_type": "code",
   "execution_count": 1,
   "id": "75445ad2-de12-4d8a-853a-2c81dd9be869",
   "metadata": {},
   "outputs": [],
   "source": [
    "import numpy as np"
   ]
  },
  {
   "cell_type": "code",
   "execution_count": 2,
   "id": "0ff510d8-84d9-4659-8fc9-51880912c5eb",
   "metadata": {},
   "outputs": [
    {
     "name": "stdin",
     "output_type": "stream",
     "text": [
      "enter the no of rows: 3\n"
     ]
    }
   ],
   "source": [
    "row=int(input(\"enter the no of rows:\"))"
   ]
  },
  {
   "cell_type": "code",
   "execution_count": 3,
   "id": "f940afd3-779c-4faa-b1a8-a367fbe8f2c2",
   "metadata": {},
   "outputs": [
    {
     "name": "stdout",
     "output_type": "stream",
     "text": [
      "enter the matrix elements:\n"
     ]
    },
    {
     "name": "stdin",
     "output_type": "stream",
     "text": [
      " 1\n",
      " 2\n",
      " 3\n",
      " 4\n",
      " 5\n",
      " 6\n",
      " 7\n",
      " 8\n",
      " 9\n"
     ]
    }
   ],
   "source": [
    "mat1=np.empty((row,row),dtype=\"int\")\n",
    "print(\"enter the matrix elements:\")\n",
    "for i in range(0,row):\n",
    "    for j in range(0,row):\n",
    "        mat1[i,j]=int(input())\n"
   ]
  },
  {
   "cell_type": "code",
   "execution_count": 4,
   "id": "a580c2dc-b981-4902-83b5-c73cc74f5b95",
   "metadata": {},
   "outputs": [
    {
     "name": "stdout",
     "output_type": "stream",
     "text": [
      "enter the matrix elements:\n"
     ]
    },
    {
     "name": "stdin",
     "output_type": "stream",
     "text": [
      " 3\n",
      " 0\n",
      " 1\n",
      " 2\n",
      " 3\n",
      " 4\n",
      " 5\n",
      " 6\n",
      " 7\n"
     ]
    }
   ],
   "source": [
    "mat2=np.empty((row,row),dtype=\"int\")\n",
    "print(\"enter the matrix elements:\")\n",
    "for i in range(0,row):\n",
    "    for j in range(0,row):\n",
    "        mat2[i,j]=int(input())"
   ]
  },
  {
   "cell_type": "code",
   "execution_count": 5,
   "id": "6186b2af-92fc-4077-ac18-d31a7a130576",
   "metadata": {},
   "outputs": [
    {
     "name": "stdout",
     "output_type": "stream",
     "text": [
      "[[1 2 3]\n",
      " [4 5 6]\n",
      " [7 8 9]]\n",
      "[[3 0 1]\n",
      " [2 3 4]\n",
      " [5 6 7]]\n"
     ]
    }
   ],
   "source": [
    "print(mat1)\n",
    "print(mat2)"
   ]
  },
  {
   "cell_type": "code",
   "execution_count": 6,
   "id": "356ac624-0542-4e7d-a9d1-30bd6125a597",
   "metadata": {},
   "outputs": [
    {
     "name": "stdout",
     "output_type": "stream",
     "text": [
      "[[ 22  24  30]\n",
      " [ 52  51  66]\n",
      " [ 82  78 102]]\n"
     ]
    }
   ],
   "source": [
    "dot=np.dot(mat1,mat2)\n",
    "print(dot)\n"
   ]
  },
  {
   "cell_type": "code",
   "execution_count": 7,
   "id": "3888a1f2-c699-4ecc-9922-2f7e57c09b30",
   "metadata": {},
   "outputs": [
    {
     "name": "stdout",
     "output_type": "stream",
     "text": [
      "[[1 4 7]\n",
      " [2 5 8]\n",
      " [3 6 9]]\n"
     ]
    }
   ],
   "source": [
    "tr=np.transpose(mat1)\n",
    "print(tr)"
   ]
  },
  {
   "cell_type": "code",
   "execution_count": 8,
   "id": "e2fb48ee-bafa-4ea6-93f4-17d154006034",
   "metadata": {},
   "outputs": [
    {
     "name": "stdout",
     "output_type": "stream",
     "text": [
      "15\n"
     ]
    }
   ],
   "source": [
    "trace=np.trace(mat1)\n",
    "print(trace)"
   ]
  },
  {
   "cell_type": "code",
   "execution_count": 9,
   "id": "23d80a15-a41c-4104-848b-4facfadd100a",
   "metadata": {},
   "outputs": [
    {
     "name": "stdout",
     "output_type": "stream",
     "text": [
      "2\n"
     ]
    }
   ],
   "source": [
    "r=np.linalg.matrix_rank(mat1)\n",
    "print(r)"
   ]
  },
  {
   "cell_type": "code",
   "execution_count": 10,
   "id": "03e4deb3-bcfe-4c69-acdd-3d54e901a6b6",
   "metadata": {},
   "outputs": [
    {
     "name": "stdout",
     "output_type": "stream",
     "text": [
      "-11.999999999999995\n"
     ]
    }
   ],
   "source": [
    "det=np.linalg.det(mat2)\n",
    "print(det)"
   ]
  },
  {
   "cell_type": "code",
   "execution_count": 11,
   "id": "71fa820b-2425-4096-b80e-6786cf806956",
   "metadata": {},
   "outputs": [
    {
     "name": "stdout",
     "output_type": "stream",
     "text": [
      "[[ 0.25       -0.5         0.25      ]\n",
      " [-0.5        -1.33333333  0.83333333]\n",
      " [ 0.25        1.5        -0.75      ]]\n"
     ]
    }
   ],
   "source": [
    "inverse=np.linalg.inv(mat2)\n",
    "print(inverse)"
   ]
  },
  {
   "cell_type": "code",
   "execution_count": 12,
   "id": "50aaffcc-3802-4d10-bc7e-e72fd0d88f1e",
   "metadata": {},
   "outputs": [
    {
     "name": "stdout",
     "output_type": "stream",
     "text": [
      "eigen values: [ 1.61168440e+01 -1.11684397e+00 -1.30367773e-15]\n",
      "eigenvectors: [[-0.23197069 -0.78583024  0.40824829]\n",
      " [-0.52532209 -0.08675134 -0.81649658]\n",
      " [-0.8186735   0.61232756  0.40824829]]\n"
     ]
    }
   ],
   "source": [
    "eigv,eigvec=np.linalg.eig(mat1)\n",
    "print(\"eigen values:\",eigv)\n",
    "print(\"eigenvectors:\",eigvec)"
   ]
  },
  {
   "cell_type": "code",
   "execution_count": null,
   "id": "e7c30533-e2b8-469a-b417-5272c8ab05ff",
   "metadata": {},
   "outputs": [],
   "source": []
  }
 ],
 "metadata": {
  "kernelspec": {
   "display_name": "Python 3 (ipykernel)",
   "language": "python",
   "name": "python3"
  },
  "language_info": {
   "codemirror_mode": {
    "name": "ipython",
    "version": 3
   },
   "file_extension": ".py",
   "mimetype": "text/x-python",
   "name": "python",
   "nbconvert_exporter": "python",
   "pygments_lexer": "ipython3",
   "version": "3.8.0"
  }
 },
 "nbformat": 4,
 "nbformat_minor": 5
}
