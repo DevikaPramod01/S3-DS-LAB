{
 "cells": [
  {
   "cell_type": "code",
   "execution_count": null,
   "id": "443dccab-fa6f-404a-a68e-1f2366418e40",
   "metadata": {},
   "outputs": [],
   "source": [
    "QN1"
   ]
  },
  {
   "cell_type": "code",
   "execution_count": 32,
   "id": "34c92486-a37e-4f26-83c7-c37fdaa386e7",
   "metadata": {},
   "outputs": [],
   "source": [
    "import numpy as np\n",
    "x=([1,2,3,4,5])\n",
    "y=([1,3,4,6,7])"
   ]
  },
  {
   "cell_type": "code",
   "execution_count": 20,
   "id": "5890517b-09f1-4129-ac01-76a9c1ea49fb",
   "metadata": {},
   "outputs": [
    {
     "name": "stdout",
     "output_type": "stream",
     "text": [
      "[1 2 3 4 5]\n",
      "[1 3 4 6 7]\n"
     ]
    }
   ],
   "source": [
    "print(x)\n",
    "print(y)"
   ]
  },
  {
   "cell_type": "code",
   "execution_count": 21,
   "id": "604905dd-656a-4c34-8f8f-e15c9b2f81af",
   "metadata": {},
   "outputs": [
    {
     "name": "stdout",
     "output_type": "stream",
     "text": [
      "[False False False False False]\n"
     ]
    }
   ],
   "source": [
    "print(np.greater(x,y))"
   ]
  },
  {
   "cell_type": "code",
   "execution_count": 22,
   "id": "bab5fa27-fa32-4deb-ab34-bb4258c90390",
   "metadata": {},
   "outputs": [
    {
     "name": "stdout",
     "output_type": "stream",
     "text": [
      "[False  True  True  True  True]\n"
     ]
    }
   ],
   "source": [
    "print(np.greater(y,x))"
   ]
  },
  {
   "cell_type": "code",
   "execution_count": 23,
   "id": "4000cb6b-40dd-4aff-abd6-7d24f054f249",
   "metadata": {},
   "outputs": [
    {
     "name": "stdout",
     "output_type": "stream",
     "text": [
      "[False  True  True  True  True]\n"
     ]
    }
   ],
   "source": [
    "print(np.less(x,y))"
   ]
  },
  {
   "cell_type": "code",
   "execution_count": 24,
   "id": "e904be40-2db7-49b0-824c-b1a777e8ec0e",
   "metadata": {},
   "outputs": [
    {
     "name": "stdout",
     "output_type": "stream",
     "text": [
      "[False  True  True  True  True]\n"
     ]
    }
   ],
   "source": [
    "print(np.greater(y,x))"
   ]
  },
  {
   "cell_type": "code",
   "execution_count": 25,
   "id": "9a4e2178-2e9a-4f28-886b-9eb8614cd5c6",
   "metadata": {},
   "outputs": [
    {
     "name": "stdout",
     "output_type": "stream",
     "text": [
      "[False False False False False]\n"
     ]
    }
   ],
   "source": [
    "print(np.less(y,x))"
   ]
  },
  {
   "cell_type": "code",
   "execution_count": 26,
   "id": "62d02597-657b-4c71-b787-39ebc0d2da58",
   "metadata": {},
   "outputs": [
    {
     "name": "stdout",
     "output_type": "stream",
     "text": [
      "[ True False False False False]\n"
     ]
    }
   ],
   "source": [
    "print(np.equal(x,y))"
   ]
  },
  {
   "cell_type": "code",
   "execution_count": 27,
   "id": "9b0aea3d-6ed4-4ae3-b6d0-9f3a95fc3d89",
   "metadata": {},
   "outputs": [
    {
     "name": "stdout",
     "output_type": "stream",
     "text": [
      "[False  True  True  True  True]\n"
     ]
    }
   ],
   "source": [
    "print(np.not_equal(x,y))"
   ]
  },
  {
   "cell_type": "code",
   "execution_count": null,
   "id": "963d860e-7290-4e50-aa23-f220c327678a",
   "metadata": {},
   "outputs": [],
   "source": [
    "QN2"
   ]
  },
  {
   "cell_type": "code",
   "execution_count": 29,
   "id": "2bfa3e9c-2076-44a1-89c9-69df0da8e4c4",
   "metadata": {},
   "outputs": [
    {
     "name": "stdout",
     "output_type": "stream",
     "text": [
      "[30 32 34 36 38 40 42 44 46 48 50 52 54 56 58 60 62 64 66 68]\n"
     ]
    }
   ],
   "source": [
    "print(np.arange(30,71,2))"
   ]
  },
  {
   "cell_type": "code",
   "execution_count": null,
   "id": "32f48623-40c1-49ad-96bf-109a8da5ed69",
   "metadata": {},
   "outputs": [],
   "source": [
    "QN3"
   ]
  },
  {
   "cell_type": "code",
   "execution_count": 30,
   "id": "52a39862-da90-4153-bb22-501ebb693b6c",
   "metadata": {},
   "outputs": [],
   "source": [
    "a=np.identity(3)"
   ]
  },
  {
   "cell_type": "code",
   "execution_count": 31,
   "id": "8aee7c26-91f7-4706-961c-13d81b99cc01",
   "metadata": {},
   "outputs": [
    {
     "name": "stdout",
     "output_type": "stream",
     "text": [
      "3*3 matrix\n",
      "[[1. 0. 0.]\n",
      " [0. 1. 0.]\n",
      " [0. 0. 1.]]\n"
     ]
    }
   ],
   "source": [
    "print(\"3*3 matrix\")\n",
    "c"
   ]
  },
  {
   "cell_type": "code",
   "execution_count": 32,
   "id": "46fd3099-f8db-446d-b168-0f4613401b80",
   "metadata": {},
   "outputs": [
    {
     "name": "stdout",
     "output_type": "stream",
     "text": [
      "[[1. 0.]\n",
      " [0. 1.]]\n"
     ]
    }
   ],
   "source": [
    "a=np.identity(2)\n",
    "print(a)"
   ]
  },
  {
   "cell_type": "code",
   "execution_count": null,
   "id": "f7056a34-682a-472d-91e4-77dd23be2f95",
   "metadata": {},
   "outputs": [],
   "source": [
    "QN4"
   ]
  },
  {
   "cell_type": "code",
   "execution_count": 35,
   "id": "f82262ef-f533-448c-97aa-f327ccb67abd",
   "metadata": {},
   "outputs": [
    {
     "name": "stdout",
     "output_type": "stream",
     "text": [
      "originalvector\n",
      "[ 0  1  2  3  4  5  6  7  8  9 10 11 12 13 14 15 16 17 18 19 20]\n"
     ]
    }
   ],
   "source": [
    "s=np.arange(0,21,1)\n",
    "print(\"originalvector\")\n",
    "print(s)"
   ]
  },
  {
   "cell_type": "code",
   "execution_count": 42,
   "id": "1467bb69-31dd-44f2-906a-32c9f4e315ba",
   "metadata": {},
   "outputs": [
    {
     "name": "stdout",
     "output_type": "stream",
     "text": [
      "After changing\n",
      "[  0   1   2   3   4   5   6   7  -8  -9 -10 -11 -12 -13 -14 -15  16  17\n",
      "  18  19  20]\n"
     ]
    }
   ],
   "source": [
    "print(\"After changing\")\n",
    "s[(s>=8)& (s<=15)]*=-1\n",
    "print(s)"
   ]
  },
  {
   "cell_type": "code",
   "execution_count": null,
   "id": "74af9d73-caca-41f6-b5e8-f58471a79d23",
   "metadata": {},
   "outputs": [],
   "source": [
    "QN5"
   ]
  },
  {
   "cell_type": "code",
   "execution_count": 43,
   "id": "98e6fe7e-0047-451b-837e-0a2171e38c07",
   "metadata": {},
   "outputs": [
    {
     "name": "stdout",
     "output_type": "stream",
     "text": [
      "[[1 0 0 0 0]\n",
      " [0 2 0 0 0]\n",
      " [0 0 3 0 0]\n",
      " [0 0 0 4 0]\n",
      " [0 0 0 0 5]]\n"
     ]
    }
   ],
   "source": [
    "d=np.diag([1,2,3,4,5])\n",
    "print(d)"
   ]
  },
  {
   "cell_type": "code",
   "execution_count": null,
   "id": "c5da14b5-2ba9-4ece-b886-fb53af5b7b5f",
   "metadata": {},
   "outputs": [],
   "source": []
  },
  {
   "cell_type": "code",
   "execution_count": null,
   "id": "9db132d2-d7a7-4dd4-b0ae-816513a0aa3b",
   "metadata": {},
   "outputs": [],
   "source": [
    "QN6"
   ]
  },
  {
   "cell_type": "code",
   "execution_count": 11,
   "id": "b18ab461-faf7-4f1a-8880-958c39042686",
   "metadata": {},
   "outputs": [
    {
     "name": "stdout",
     "output_type": "stream",
     "text": [
      "original array\n",
      "[[4 2]\n",
      " [1 2]]\n",
      "Sum of all elements\n",
      "9\n",
      "sum of each column\n",
      "[5 4]\n",
      "sum of each row\n",
      "[6 3]\n"
     ]
    }
   ],
   "source": [
    "a=np.array([[4,2],[1,2]])\n",
    "print(\"original array\")\n",
    "print(a)\n",
    "print(\"Sum of all elements\")\n",
    "print(np.sum(a))\n",
    "print(\"sum of each column\")\n",
    "print(np.sum(a,axis=0))\n",
    "print(\"sum of each row\")\n",
    "print(np.sum(a,axis=1))"
   ]
  },
  {
   "cell_type": "code",
   "execution_count": null,
   "id": "20566d19-5849-4d81-8776-dead67b24075",
   "metadata": {},
   "outputs": [],
   "source": [
    "QN7"
   ]
  },
  {
   "cell_type": "code",
   "execution_count": 19,
   "id": "3f0563ba-e6c8-4ceb-8e1e-c1a10bfb0972",
   "metadata": {},
   "outputs": [
    {
     "name": "stdout",
     "output_type": "stream",
     "text": [
      "original\n",
      "[[ 0  1  2]\n",
      " [ 3  4  5]\n",
      " [ 6  7  8]\n",
      " [ 9 10 11]]\n",
      "After loading,content of the file\n",
      "[[ 0.  1.  2.]\n",
      " [ 3.  4.  5.]\n",
      " [ 6.  7.  8.]\n",
      " [ 9. 10. 11.]]\n"
     ]
    }
   ],
   "source": [
    "import os\n",
    "x=np.arange(12).reshape(4,3)\n",
    "print(\"original\")\n",
    "print(x)\n",
    "header='col1 col2 col3'\n",
    "np.savetxt('temp.txt',x,fmt=\"%d\",header=header)\n",
    "print(\"After loading,content of the file\")\n",
    "result=np.loadtxt('temp.txt')\n",
    "print(result)"
   ]
  },
  {
   "cell_type": "code",
   "execution_count": null,
   "id": "e669e1f7-8870-4dd8-92b1-806331bff825",
   "metadata": {},
   "outputs": [],
   "source": [
    "QN8"
   ]
  },
  {
   "cell_type": "code",
   "execution_count": 23,
   "id": "25c56a68-0284-4672-94f4-e45fbbf1b234",
   "metadata": {},
   "outputs": [
    {
     "name": "stdout",
     "output_type": "stream",
     "text": [
      "[ True  True False False  True]\n"
     ]
    }
   ],
   "source": [
    "x=np.array([1,2,3,4,5])\n",
    "y=np.array([1,2,4,6,5])\n",
    "print(np.equal(x,y))"
   ]
  },
  {
   "cell_type": "code",
   "execution_count": null,
   "id": "e7465bfa-0fb5-4ba1-91dc-ef6f4d38514b",
   "metadata": {},
   "outputs": [],
   "source": [
    "QN9"
   ]
  },
  {
   "cell_type": "code",
   "execution_count": 28,
   "id": "cce09bbd-629f-4480-88cc-4d0ec04cd91a",
   "metadata": {},
   "outputs": [
    {
     "name": "stdout",
     "output_type": "stream",
     "text": [
      "original\n",
      "[[ 0  1  2  3]\n",
      " [ 4  5  6  7]\n",
      " [ 8  9 10 11]\n",
      " [12 13 14 15]]\n",
      "after swapping last and first....\n",
      "[[12 13 14 15]\n",
      " [ 4  5  6  7]\n",
      " [ 8  9 10 11]\n",
      " [ 0  1  2  3]]\n"
     ]
    }
   ],
   "source": [
    "nums=np.arange(16,dtype='int').reshape(-1,4)\n",
    "print(\"original\")\n",
    "print(nums)\n",
    "print(\"after swapping last and first....\")\n",
    "nums[[0,-1],:]=nums[[-1,0],:]\n",
    "print(nums)\n"
   ]
  },
  {
   "cell_type": "code",
   "execution_count": null,
   "id": "25645405-584b-4136-9c84-026fc6728180",
   "metadata": {},
   "outputs": [],
   "source": [
    "QN10"
   ]
  },
  {
   "cell_type": "code",
   "execution_count": 29,
   "id": "cabb2c68-ee77-4e2a-a2d1-9cad4fdda827",
   "metadata": {},
   "outputs": [
    {
     "name": "stdout",
     "output_type": "stream",
     "text": [
      "[[ 1  4  9]\n",
      " [ 4  9 16]]\n"
     ]
    }
   ],
   "source": [
    "a=np.array([[1,2,3],[2,3,4]])\n",
    "b=np.array([[1,2,3],[2,3,4]])\n",
    "c=a*b\n"
   ]
  },
  {
   "cell_type": "code",
   "execution_count": null,
   "id": "6b8f0952-2a83-4889-9727-ba3cf2e137ea",
   "metadata": {},
   "outputs": [],
   "source": []
  }
 ],
 "metadata": {
  "kernelspec": {
   "display_name": "Python 3 (ipykernel)",
   "language": "python",
   "name": "python3"
  },
  "language_info": {
   "codemirror_mode": {
    "name": "ipython",
    "version": 3
   },
   "file_extension": ".py",
   "mimetype": "text/x-python",
   "name": "python",
   "nbconvert_exporter": "python",
   "pygments_lexer": "ipython3",
   "version": "3.8.0"
  }
 },
 "nbformat": 4,
 "nbformat_minor": 5
}
