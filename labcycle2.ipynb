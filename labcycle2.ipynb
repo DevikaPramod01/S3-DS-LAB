{
 "cells": [
  {
   "cell_type": "code",
   "execution_count": 2,
   "id": "69861c5b-58d5-4400-a338-d256ae79ffcf",
   "metadata": {},
   "outputs": [],
   "source": [
    "import numpy as np"
   ]
  },
  {
   "cell_type": "code",
   "execution_count": 3,
   "id": "0b1b55b4-3f87-4095-843a-8c1c3b5a8054",
   "metadata": {},
   "outputs": [],
   "source": [
    "def read_matrix():\n",
    "    row=int(input(\"no of rows: \"))\n",
    "    cols=int(input(\"no of cols: \"))\n",
    "    mat=[]\n",
    "    print(\"enter row elements: \")\n",
    "    for i in range(rows):\n",
    "        row=[]\n",
    "        for j in range(cols):\n",
    "            element=float(input(\"enter cols element: \"))\n",
    "            row.append(element)\n",
    "        mat.append(row)\n",
    "    return np.array(matrix)\n",
    "   \n",
    "    \n"
   ]
  },
  {
   "cell_type": "code",
   "execution_count": 4,
   "id": "a9dbdfae-9d7a-4cc5-ac8e-40969c34e432",
   "metadata": {},
   "outputs": [],
   "source": [
    "def matrix_operations(matrix1,matrix2):\n",
    "        print(\"matrix 1 \")\n",
    "        print(matrix1)\n",
    "        print(\"matrix 2 \")\n",
    "        print(martix2)"
   ]
  },
  {
   "cell_type": "code",
   "execution_count": 5,
   "id": "345a4d7f-8788-445d-a747-539b22be8571",
   "metadata": {},
   "outputs": [
    {
     "ename": "NameError",
     "evalue": "name 'matrix1' is not defined",
     "output_type": "error",
     "traceback": [
      "\u001b[0;31m---------------------------------------------------------------------------\u001b[0m",
      "\u001b[0;31mNameError\u001b[0m                                 Traceback (most recent call last)",
      "Input \u001b[0;32mIn [5]\u001b[0m, in \u001b[0;36m<cell line: 2>\u001b[0;34m()\u001b[0m\n\u001b[1;32m      1\u001b[0m \u001b[38;5;66;03m#1.dot product\u001b[39;00m\n\u001b[0;32m----> 2\u001b[0m dot_prdt\u001b[38;5;241m=\u001b[39mnp\u001b[38;5;241m.\u001b[39mdot(\u001b[43mmatrix1\u001b[49m,matrix2)\n\u001b[1;32m      3\u001b[0m \u001b[38;5;28mprint\u001b[39m(\u001b[38;5;124m\"\u001b[39m\u001b[38;5;124m1.dot product\u001b[39m\u001b[38;5;124m\"\u001b[39m)\n\u001b[1;32m      4\u001b[0m \u001b[38;5;28mprint\u001b[39m(dot_prdt)\n",
      "\u001b[0;31mNameError\u001b[0m: name 'matrix1' is not defined"
     ]
    }
   ],
   "source": [
    "#1.dot product\n",
    "dot_prdt=np.dot(matrix1,matrix2)\n",
    "print(\"1.dot product\")\n",
    "print(dot_prdt)\n"
   ]
  },
  {
   "cell_type": "code",
   "execution_count": 6,
   "id": "4056ddcd-5b11-4d7d-971a-317370ddd6fd",
   "metadata": {},
   "outputs": [
    {
     "ename": "NameError",
     "evalue": "name 'matrix1' is not defined",
     "output_type": "error",
     "traceback": [
      "\u001b[0;31m---------------------------------------------------------------------------\u001b[0m",
      "\u001b[0;31mNameError\u001b[0m                                 Traceback (most recent call last)",
      "Input \u001b[0;32mIn [6]\u001b[0m, in \u001b[0;36m<cell line: 2>\u001b[0;34m()\u001b[0m\n\u001b[1;32m      1\u001b[0m \u001b[38;5;66;03m#2.transpose\u001b[39;00m\n\u001b[0;32m----> 2\u001b[0m t1\u001b[38;5;241m=\u001b[39mnp\u001b[38;5;241m.\u001b[39mtranspose(\u001b[43mmatrix1\u001b[49m)\n\u001b[1;32m      3\u001b[0m t2\u001b[38;5;241m=\u001b[39mnp\u001b[38;5;241m.\u001b[39mtranspose(matrix2)\n\u001b[1;32m      4\u001b[0m \u001b[38;5;28mprint\u001b[39m(\u001b[38;5;124m\"\u001b[39m\u001b[38;5;124m2.transpose of matrix 1\u001b[39m\u001b[38;5;124m\"\u001b[39m)\n",
      "\u001b[0;31mNameError\u001b[0m: name 'matrix1' is not defined"
     ]
    }
   ],
   "source": [
    "#2.transpose\n",
    "t1=np.transpose(matrix1)\n",
    "t2=np.transpose(matrix2)\n",
    "print(\"2.transpose of matrix 1\")\n",
    "print(t1)\n",
    "print(\"transpose of matrix 2\")\n",
    "print(t2)\n",
    "\n"
   ]
  },
  {
   "cell_type": "code",
   "execution_count": null,
   "id": "e9754d1c-7679-4c7a-9aaa-bcbc1d80f67f",
   "metadata": {},
   "outputs": [],
   "source": [
    "#3.trace\n",
    "tr1=np.trace(matrix1)\n",
    "tr2=np.trace(matrix2)\n",
    "print(\"3.trace of matrix 1\")\n",
    "print(tr1)\n",
    "print(\"trace of matrix 2\")\n",
    "print(tr2)\n",
    "\n"
   ]
  },
  {
   "cell_type": "code",
   "execution_count": null,
   "id": "7032f4cf-7a75-4e90-9b2a-ec5525f1e9af",
   "metadata": {},
   "outputs": [],
   "source": [
    "#4.rank\n",
    "r1=np.linalg.matrix_rank(matrix1)\n",
    "r2=np.linalg.matrix_rank(matrix2)\n",
    "print(\"4.ranl of matrix 1\")\n",
    "print(r1)\n",
    "print(\"ranl of matrix 2\")\n",
    "print(r2)\n"
   ]
  },
  {
   "cell_type": "code",
   "execution_count": null,
   "id": "9ec17fa4-7791-4d8d-abf8-f495e5278341",
   "metadata": {},
   "outputs": [],
   "source": [
    "#5.determinant\n",
    "d1=np.linalg.det(matrix1)\n",
    "d2=np.linalg.det(matrix2)\n",
    "print(\"5.deteminant of matrix 1\")\n",
    "print(d1)\n",
    "print(\"deteminant of matrix 2\")\n",
    "print(d2)\n",
    "\n"
   ]
  },
  {
   "cell_type": "code",
   "execution_count": null,
   "id": "4fce3676-4219-4517-9d3e-9480c56bd625",
   "metadata": {},
   "outputs": [],
   "source": [
    "#6.inverse\n",
    "in1=np.linalg.inv(matrix1)\n",
    "in2=np.linalg.inv(matrix2)\n",
    "print(\"6.inverse of matrix 1\")\n",
    "print(in1)\n",
    "print(\"inverse of matrix 2\")\n",
    "print(in2)"
   ]
  },
  {
   "cell_type": "code",
   "execution_count": null,
   "id": "7cbb327d-78b0-47e5-8590-a92a32722aa1",
   "metadata": {},
   "outputs": [],
   "source": [
    "#7.eigen values vectors\n",
    "eva1,eve1=np.linalg.eig(matrix1)\n",
    "eva2,eve2=np.linalg.eig(matrix2)\n",
    "print(\"7.eigen values and eigen vectors of matrix 1\")\n",
    "print(\"eigen values:\")\n",
    "print(eva1)\n",
    "print(\"eigen vectors :\")\n",
    "print(eve1)\n",
    "print(\"eigen values and eigen vectors of matrix 2\")\n",
    "print(\"eigen values:\")\n",
    "print(eva2)\n",
    "print(\"eigen vectors :\")\n",
    "print(eve2)"
   ]
  },
  {
   "cell_type": "code",
   "execution_count": 7,
   "id": "3160e521-c079-4ff2-8af9-e4b042476444",
   "metadata": {},
   "outputs": [
    {
     "name": "stdout",
     "output_type": "stream",
     "text": [
      "matrix 1: \n"
     ]
    },
    {
     "name": "stdin",
     "output_type": "stream",
     "text": [
      "no of rows:  2\n",
      "no of cols:  2\n"
     ]
    },
    {
     "name": "stdout",
     "output_type": "stream",
     "text": [
      "enter row elements: \n"
     ]
    },
    {
     "ename": "NameError",
     "evalue": "name 'rows' is not defined",
     "output_type": "error",
     "traceback": [
      "\u001b[0;31m---------------------------------------------------------------------------\u001b[0m",
      "\u001b[0;31mNameError\u001b[0m                                 Traceback (most recent call last)",
      "Input \u001b[0;32mIn [7]\u001b[0m, in \u001b[0;36m<cell line: 2>\u001b[0;34m()\u001b[0m\n\u001b[1;32m      1\u001b[0m \u001b[38;5;28mprint\u001b[39m(\u001b[38;5;124m\"\u001b[39m\u001b[38;5;124mmatrix 1: \u001b[39m\u001b[38;5;124m\"\u001b[39m)\n\u001b[0;32m----> 2\u001b[0m matrix1\u001b[38;5;241m=\u001b[39m\u001b[43mread_matrix\u001b[49m\u001b[43m(\u001b[49m\u001b[43m)\u001b[49m\n\u001b[1;32m      3\u001b[0m \u001b[38;5;28mprint\u001b[39m(\u001b[38;5;124m\"\u001b[39m\u001b[38;5;124mmatrix 2: \u001b[39m\u001b[38;5;124m\"\u001b[39m)\n\u001b[1;32m      4\u001b[0m matrix2\u001b[38;5;241m=\u001b[39mread_matrix()\n",
      "Input \u001b[0;32mIn [3]\u001b[0m, in \u001b[0;36mread_matrix\u001b[0;34m()\u001b[0m\n\u001b[1;32m      4\u001b[0m mat\u001b[38;5;241m=\u001b[39m[]\n\u001b[1;32m      5\u001b[0m \u001b[38;5;28mprint\u001b[39m(\u001b[38;5;124m\"\u001b[39m\u001b[38;5;124menter row elements: \u001b[39m\u001b[38;5;124m\"\u001b[39m)\n\u001b[0;32m----> 6\u001b[0m \u001b[38;5;28;01mfor\u001b[39;00m i \u001b[38;5;129;01min\u001b[39;00m \u001b[38;5;28mrange\u001b[39m(\u001b[43mrows\u001b[49m):\n\u001b[1;32m      7\u001b[0m     row\u001b[38;5;241m=\u001b[39m[]\n\u001b[1;32m      8\u001b[0m     \u001b[38;5;28;01mfor\u001b[39;00m j \u001b[38;5;129;01min\u001b[39;00m \u001b[38;5;28mrange\u001b[39m(cols):\n",
      "\u001b[0;31mNameError\u001b[0m: name 'rows' is not defined"
     ]
    }
   ],
   "source": [
    "print(\"matrix 1: \")\n",
    "matrix1=read_matrix()\n",
    "print(\"matrix 2: \")\n",
    "matrix2=read_matrix()\n",
    "matrix_operations(matrix1,matrix2)"
   ]
  },
  {
   "cell_type": "code",
   "execution_count": null,
   "id": "f816390e-47ac-49b0-8c72-6fe1ce0b8796",
   "metadata": {},
   "outputs": [],
   "source": []
  }
 ],
 "metadata": {
  "kernelspec": {
   "display_name": "Python 3 (ipykernel)",
   "language": "python",
   "name": "python3"
  },
  "language_info": {
   "codemirror_mode": {
    "name": "ipython",
    "version": 3
   },
   "file_extension": ".py",
   "mimetype": "text/x-python",
   "name": "python",
   "nbconvert_exporter": "python",
   "pygments_lexer": "ipython3",
   "version": "3.8.0"
  }
 },
 "nbformat": 4,
 "nbformat_minor": 5
}
